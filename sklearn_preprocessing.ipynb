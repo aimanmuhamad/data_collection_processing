{
  "nbformat": 4,
  "nbformat_minor": 0,
  "metadata": {
    "colab": {
      "name": "sklearn_preprocessing.ipynb",
      "provenance": [],
      "authorship_tag": "ABX9TyPUZGSAZrTLHx3YnyIQSc8t"
    },
    "kernelspec": {
      "name": "python3",
      "display_name": "Python 3"
    },
    "language_info": {
      "name": "python"
    }
  },
  "cells": [
    {
      "cell_type": "code",
      "execution_count": 8,
      "metadata": {
        "id": "ZQVjQEXZwTAB"
      },
      "outputs": [],
      "source": [
        "import numpy as np\n",
        "from sklearn import preprocessing"
      ]
    },
    {
      "cell_type": "code",
      "source": [
        "sample_data=np.array([[2.1,-1.9,5.5],\n",
        "                      [-2.3,2.4,3.5],\n",
        "                      [3.4,5.3,3.4]])\n",
        "sample_data"
      ],
      "metadata": {
        "colab": {
          "base_uri": "https://localhost:8080/"
        },
        "id": "Uf30pFD1y8bc",
        "outputId": "6d720005-8dbe-4e17-e28e-a83aa2b1079a"
      },
      "execution_count": 2,
      "outputs": [
        {
          "output_type": "execute_result",
          "data": {
            "text/plain": [
              "array([[ 2.1, -1.9,  5.5],\n",
              "       [-2.3,  2.4,  3.5],\n",
              "       [ 3.4,  5.3,  3.4]])"
            ]
          },
          "metadata": {},
          "execution_count": 2
        }
      ]
    },
    {
      "cell_type": "code",
      "source": [
        "sample_data.shape"
      ],
      "metadata": {
        "colab": {
          "base_uri": "https://localhost:8080/"
        },
        "id": "3QFjBN88zTA3",
        "outputId": "d21f4db6-b630-4d7a-e0b1-81732098fb4b"
      },
      "execution_count": 3,
      "outputs": [
        {
          "output_type": "execute_result",
          "data": {
            "text/plain": [
              "(3, 3)"
            ]
          },
          "metadata": {},
          "execution_count": 3
        }
      ]
    },
    {
      "cell_type": "code",
      "source": [
        "#Binarisation\n",
        "preprocessor=preprocessing.Binarizer(threshold=0.5)\n",
        "binarised_data=preprocessor.transform(sample_data)\n",
        "\n",
        "binarised_data"
      ],
      "metadata": {
        "colab": {
          "base_uri": "https://localhost:8080/"
        },
        "id": "qJkywhPSzXlm",
        "outputId": "367848c2-8926-4f34-b601-efd245df45c9"
      },
      "execution_count": 4,
      "outputs": [
        {
          "output_type": "execute_result",
          "data": {
            "text/plain": [
              "array([[1., 0., 1.],\n",
              "       [0., 1., 1.],\n",
              "       [1., 1., 1.]])"
            ]
          },
          "metadata": {},
          "execution_count": 4
        }
      ]
    },
    {
      "cell_type": "code",
      "source": [
        "#Scaling\n",
        "preprocessor=preprocessing.Binarizer(threshold=0.5)\n",
        "binarised_data=preprocessor.transform(sample_data)\n",
        "\n",
        "binarised_data"
      ],
      "metadata": {
        "id": "1Z0VCNEs0B1D"
      },
      "execution_count": null,
      "outputs": []
    },
    {
      "cell_type": "code",
      "source": [
        "preprocessor=preprocessing.MinMaxScaler(feature_range=(0,1))\n",
        "preprocessor.fit(sample_data)\n",
        "scaled_data=preprocessor.transform(sample_data)\n",
        "\n",
        "scaled_data"
      ],
      "metadata": {
        "colab": {
          "base_uri": "https://localhost:8080/"
        },
        "id": "ooJHYzae1kdY",
        "outputId": "1303dce8-5845-44ac-c0fe-d9ad64af42b3"
      },
      "execution_count": 6,
      "outputs": [
        {
          "output_type": "execute_result",
          "data": {
            "text/plain": [
              "array([[0.77192982, 0.        , 1.        ],\n",
              "       [0.        , 0.59722222, 0.04761905],\n",
              "       [1.        , 1.        , 0.        ]])"
            ]
          },
          "metadata": {},
          "execution_count": 6
        }
      ]
    },
    {
      "cell_type": "code",
      "source": [
        "sample_data"
      ],
      "metadata": {
        "colab": {
          "base_uri": "https://localhost:8080/"
        },
        "id": "AYqvMe0N2VAq",
        "outputId": "0997b140-7553-4d6e-a6dc-e978a7557145"
      },
      "execution_count": 10,
      "outputs": [
        {
          "output_type": "execute_result",
          "data": {
            "text/plain": [
              "array([[ 2.1, -1.9,  5.5],\n",
              "       [-2.3,  2.4,  3.5],\n",
              "       [ 3.4,  5.3,  3.4]])"
            ]
          },
          "metadata": {},
          "execution_count": 10
        }
      ]
    },
    {
      "cell_type": "code",
      "source": [
        "#L1 Normalisation : Least Absolute Deviations\n",
        "\n",
        "l1_normalised_data=preprocessing.normalize(sample_data,norm='l1')\n",
        "l1_normalised_data"
      ],
      "metadata": {
        "colab": {
          "base_uri": "https://localhost:8080/"
        },
        "id": "JQcKT6zB2DSp",
        "outputId": "3423b083-5ace-4e44-82a8-c5b9a42d88c1"
      },
      "execution_count": 9,
      "outputs": [
        {
          "output_type": "execute_result",
          "data": {
            "text/plain": [
              "array([[ 0.22105263, -0.2       ,  0.57894737],\n",
              "       [-0.2804878 ,  0.29268293,  0.42682927],\n",
              "       [ 0.28099174,  0.43801653,  0.28099174]])"
            ]
          },
          "metadata": {},
          "execution_count": 9
        }
      ]
    },
    {
      "cell_type": "code",
      "source": [
        "#L2 Normalisation : Least Square\n",
        "\n",
        "l2_normalised_data=preprocessing.normalize(sample_data,norm='l2')\n",
        "l2_normalised_data"
      ],
      "metadata": {
        "colab": {
          "base_uri": "https://localhost:8080/"
        },
        "id": "U7eTAdFf2UL1",
        "outputId": "b3acb284-f055-461b-a1d3-d92d6221b579"
      },
      "execution_count": 11,
      "outputs": [
        {
          "output_type": "execute_result",
          "data": {
            "text/plain": [
              "array([[ 0.33946114, -0.30713151,  0.88906489],\n",
              "       [-0.4764857 ,  0.49720247,  0.72508694],\n",
              "       [ 0.47511805,  0.74062519,  0.47511805]])"
            ]
          },
          "metadata": {},
          "execution_count": 11
        }
      ]
    }
  ]
}