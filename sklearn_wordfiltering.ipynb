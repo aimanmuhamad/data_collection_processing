{
  "nbformat": 4,
  "nbformat_minor": 0,
  "metadata": {
    "colab": {
      "name": "sklearn_wordfiltering.ipynb",
      "provenance": [],
      "authorship_tag": "ABX9TyN/hGlXJbWp9RxLb6eaF7+P"
    },
    "kernelspec": {
      "name": "python3",
      "display_name": "Python 3"
    },
    "language_info": {
      "name": "python"
    }
  },
  "cells": [
    {
      "cell_type": "code",
      "execution_count": 5,
      "metadata": {
        "colab": {
          "base_uri": "https://localhost:8080/"
        },
        "id": "u2xN1KQ46EH_",
        "outputId": "1bb91efa-4b86-47d4-c5a9-be8f21f89bfb"
      },
      "outputs": [
        {
          "output_type": "execute_result",
          "data": {
            "text/plain": [
              "['Linux has been around since the mid-1990s.',\n",
              " 'Linux distributions include the Linux kernel.',\n",
              " 'Linux is one of the most prominent open-source software.']"
            ]
          },
          "metadata": {},
          "execution_count": 5
        }
      ],
      "source": [
        "#Dataset\n",
        "corpus=[\n",
        "        'Linux has been around since the mid-1990s.',\n",
        "        'Linux distributions include the Linux kernel.',\n",
        "        'Linux is one of the most prominent open-source software.'\n",
        "]\n",
        "\n",
        "corpus"
      ]
    },
    {
      "cell_type": "code",
      "source": [
        "#Bag of Word Model\n",
        "from sklearn.feature_extraction.text import CountVectorizer\n",
        "\n",
        "vectorizer=CountVectorizer()\n",
        "vectorizer_X=vectorizer.fit_transform(corpus).todense()\n",
        "vectorizer_X"
      ],
      "metadata": {
        "colab": {
          "base_uri": "https://localhost:8080/"
        },
        "id": "rsZB_2rl6yqK",
        "outputId": "e243e23a-08fe-49aa-f042-4c9a9eab14c7"
      },
      "execution_count": 6,
      "outputs": [
        {
          "output_type": "execute_result",
          "data": {
            "text/plain": [
              "matrix([[1, 1, 1, 0, 1, 0, 0, 0, 1, 1, 0, 0, 0, 0, 0, 1, 0, 0, 1],\n",
              "        [0, 0, 0, 1, 0, 1, 0, 1, 2, 0, 0, 0, 0, 0, 0, 0, 0, 0, 1],\n",
              "        [0, 0, 0, 0, 0, 0, 1, 0, 1, 0, 1, 1, 1, 1, 1, 0, 1, 1, 1]])"
            ]
          },
          "metadata": {},
          "execution_count": 6
        }
      ]
    },
    {
      "cell_type": "code",
      "source": [
        "vectorizer.get_feature_names()"
      ],
      "metadata": {
        "colab": {
          "base_uri": "https://localhost:8080/"
        },
        "id": "LjLIm6zM7IS5",
        "outputId": "db0f57a3-2e9e-4805-da83-c1d8082ab905"
      },
      "execution_count": 7,
      "outputs": [
        {
          "output_type": "stream",
          "name": "stderr",
          "text": [
            "/usr/local/lib/python3.7/dist-packages/sklearn/utils/deprecation.py:87: FutureWarning: Function get_feature_names is deprecated; get_feature_names is deprecated in 1.0 and will be removed in 1.2. Please use get_feature_names_out instead.\n",
            "  warnings.warn(msg, category=FutureWarning)\n"
          ]
        },
        {
          "output_type": "execute_result",
          "data": {
            "text/plain": [
              "['1990s',\n",
              " 'around',\n",
              " 'been',\n",
              " 'distributions',\n",
              " 'has',\n",
              " 'include',\n",
              " 'is',\n",
              " 'kernel',\n",
              " 'linux',\n",
              " 'mid',\n",
              " 'most',\n",
              " 'of',\n",
              " 'one',\n",
              " 'open',\n",
              " 'prominent',\n",
              " 'since',\n",
              " 'software',\n",
              " 'source',\n",
              " 'the']"
            ]
          },
          "metadata": {},
          "execution_count": 7
        }
      ]
    },
    {
      "cell_type": "code",
      "source": [
        "#Euclidean Distance\n",
        "\n",
        "from sklearn.metrics.pairwise import euclidean_distances\n",
        "\n",
        "for i in range(len(vectorizer_X)):\n",
        "  for j in range(i,len(vectorizer_X)):\n",
        "    if i==j:\n",
        "      continue\n",
        "    jarak=euclidean_distances(vectorizer_X[i],vectorizer_X[j])\n",
        "    print(f'Jarak dokumen {i+1} dan {j+1} : {jarak}')"
      ],
      "metadata": {
        "colab": {
          "base_uri": "https://localhost:8080/"
        },
        "id": "8qId1_XY74QR",
        "outputId": "dfd5dae6-95bb-4a54-d3fc-884417e0a123"
      },
      "execution_count": 11,
      "outputs": [
        {
          "output_type": "stream",
          "name": "stdout",
          "text": [
            "Jarak dokumen 1 dan 2 : [[3.16227766]]\n",
            "Jarak dokumen 1 dan 3 : [[3.74165739]]\n",
            "Jarak dokumen 2 dan 3 : [[3.46410162]]\n"
          ]
        },
        {
          "output_type": "stream",
          "name": "stderr",
          "text": [
            "/usr/local/lib/python3.7/dist-packages/sklearn/utils/validation.py:598: FutureWarning: np.matrix usage is deprecated in 1.0 and will raise a TypeError in 1.2. Please convert to a numpy array with np.asarray. For more information see: https://numpy.org/doc/stable/reference/generated/numpy.matrix.html\n",
            "  FutureWarning,\n",
            "/usr/local/lib/python3.7/dist-packages/sklearn/utils/validation.py:598: FutureWarning: np.matrix usage is deprecated in 1.0 and will raise a TypeError in 1.2. Please convert to a numpy array with np.asarray. For more information see: https://numpy.org/doc/stable/reference/generated/numpy.matrix.html\n",
            "  FutureWarning,\n",
            "/usr/local/lib/python3.7/dist-packages/sklearn/utils/validation.py:598: FutureWarning: np.matrix usage is deprecated in 1.0 and will raise a TypeError in 1.2. Please convert to a numpy array with np.asarray. For more information see: https://numpy.org/doc/stable/reference/generated/numpy.matrix.html\n",
            "  FutureWarning,\n",
            "/usr/local/lib/python3.7/dist-packages/sklearn/utils/validation.py:598: FutureWarning: np.matrix usage is deprecated in 1.0 and will raise a TypeError in 1.2. Please convert to a numpy array with np.asarray. For more information see: https://numpy.org/doc/stable/reference/generated/numpy.matrix.html\n",
            "  FutureWarning,\n",
            "/usr/local/lib/python3.7/dist-packages/sklearn/utils/validation.py:598: FutureWarning: np.matrix usage is deprecated in 1.0 and will raise a TypeError in 1.2. Please convert to a numpy array with np.asarray. For more information see: https://numpy.org/doc/stable/reference/generated/numpy.matrix.html\n",
            "  FutureWarning,\n",
            "/usr/local/lib/python3.7/dist-packages/sklearn/utils/validation.py:598: FutureWarning: np.matrix usage is deprecated in 1.0 and will raise a TypeError in 1.2. Please convert to a numpy array with np.asarray. For more information see: https://numpy.org/doc/stable/reference/generated/numpy.matrix.html\n",
            "  FutureWarning,\n"
          ]
        }
      ]
    },
    {
      "cell_type": "code",
      "source": [
        "#Stop Word Filtering in text\n",
        "from sklearn.feature_extraction.text import CountVectorizer\n",
        "\n",
        "vectorizer=CountVectorizer(stop_words='english')\n",
        "vectorizer_X=vectorizer.fit_transform(corpus).todense()\n",
        "vectorizer_X"
      ],
      "metadata": {
        "colab": {
          "base_uri": "https://localhost:8080/"
        },
        "id": "drLHz_3d8jC1",
        "outputId": "28b7b5e7-dd73-4ecb-a104-550eaf72659a"
      },
      "execution_count": 12,
      "outputs": [
        {
          "output_type": "execute_result",
          "data": {
            "text/plain": [
              "matrix([[1, 0, 0, 0, 1, 1, 0, 0, 0, 0],\n",
              "        [0, 1, 1, 1, 2, 0, 0, 0, 0, 0],\n",
              "        [0, 0, 0, 0, 1, 0, 1, 1, 1, 1]])"
            ]
          },
          "metadata": {},
          "execution_count": 12
        }
      ]
    },
    {
      "cell_type": "code",
      "source": [
        "vectorizer.get_feature_names()"
      ],
      "metadata": {
        "colab": {
          "base_uri": "https://localhost:8080/"
        },
        "id": "OHv12aFZ8yBH",
        "outputId": "0f63111a-287a-40a3-8915-ac58a6bc8c94"
      },
      "execution_count": 13,
      "outputs": [
        {
          "output_type": "stream",
          "name": "stderr",
          "text": [
            "/usr/local/lib/python3.7/dist-packages/sklearn/utils/deprecation.py:87: FutureWarning: Function get_feature_names is deprecated; get_feature_names is deprecated in 1.0 and will be removed in 1.2. Please use get_feature_names_out instead.\n",
            "  warnings.warn(msg, category=FutureWarning)\n"
          ]
        },
        {
          "output_type": "execute_result",
          "data": {
            "text/plain": [
              "['1990s',\n",
              " 'distributions',\n",
              " 'include',\n",
              " 'kernel',\n",
              " 'linux',\n",
              " 'mid',\n",
              " 'open',\n",
              " 'prominent',\n",
              " 'software',\n",
              " 'source']"
            ]
          },
          "metadata": {},
          "execution_count": 13
        }
      ]
    }
  ]
}